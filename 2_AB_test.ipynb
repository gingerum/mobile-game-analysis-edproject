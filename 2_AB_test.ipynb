{
 "cells": [
  {
   "cell_type": "markdown",
   "metadata": {},
   "source": [
    "Имеются результаты A/B теста, в котором двум группам пользователей предлагались различные наборы акционных предложений. Известно, что ARPU в тестовой группе выше на 5%, чем в контрольной. При этом в контрольной группе 1928 игроков из 202103 оказались платящими, а в тестовой – 1805 из 202667.\n",
    "\n",
    "Какой набор предложений можно считать лучшим? Какие метрики стоит проанализировать для принятия правильного решения и как?\n",
    "\n",
    "Данные: https://disk.yandex.ru/d/12gk_ATEeBZm4A\n",
    "\n",
    "Наполнение данных: user_id,\trevenue, testgroup\n",
    "\n",
    "-------------------------------------"
   ]
  },
  {
   "cell_type": "code",
   "execution_count": 1,
   "metadata": {},
   "outputs": [],
   "source": [
    "import requests\n",
    "from urllib.parse import urlencode\n",
    "import pandas as pd\n",
    "import seaborn as sns\n",
    "import matplotlib.pyplot as plt\n",
    "%matplotlib inline\n",
    "import numpy as np\n",
    "from scipy.stats import norm\n",
    "import statsmodels.api as sm\n",
    "from tqdm.auto import tqdm"
   ]
  },
  {
   "cell_type": "markdown",
   "metadata": {},
   "source": [
    "------\n",
    "### Предварительная оценка \n",
    "Проанализировать стоит те метрики, в которые мы целились при формировании гипотезы и дизайне эксперимента :)\n",
    "\n",
    "Что может повлиять на логику анализа/выводов:\n",
    "1. В чем различность наших наборов - разные группы товаров (по ABC/XYZ или назначению), их количество/доли или только ценник? \n",
    "2. Доступны ли товары или их аналоги для покупки вне акции? (что будет со спросом после акции?)\n",
    "3. Формат продажи - 1 набор на игрока или иные ограничения? (максимально возможный доход с игрока в акции)\n",
    "4. За какой период у нас данные?\n",
    "5. Какие игроки были в группах?\n",
    "6. Есть ли у нас рекламная монетизация?\n",
    "\n",
    "Из данных у нас есть айди игрока, выручка с него и метка группы. \n",
    "\n",
    "- Если наборы состояли из товаров (или аналогов), доступных в базовом внутриигровом магазине, то буст выручки с акции мог не перекрыть снижение выручки в период восстановления потребности -> нужны данные о выручке не только с продажи наборов, но за весь период акции + восстановления метрики среднедневной выручки. \n",
    "- Если наборы отличались по цене (B на n% дороже A) и/или не влияли на баланс - нам больше интересен % платящих.\n",
    "- Если товары в наборах конкурируют с бонусами за просмотр рекламы - нужно учесть влияние на выручку с рекламы.\n",
    "- Если предметы в наборах влияли на баланс и/или игра предполагает активное противостояние, нам также важно не уронить Retention - игрок мог накупить бустеров по скидке, пройти весь доступный контент в X раз быстрее предусмотренного, и заскучать. Либо неплатящие игроки могли начать чаще проигрывать в PvP, решить, что у нас тотальный pay-to-win и уйти, так и не увидев наши крутые офферы для первой покупки.\n",
    "- etc.\n",
    "\n",
    "В любом случае, с нашими данными мы можем оценить только:\n",
    "\n",
    "- **ARPU**, как ключевую метрику - какой набор при прочих равных принесет больше денег бизнесу? //при этом допускаем, что снижения спроса после акции не было, либо выручка накопительная и учитывает период восстановления спроса\n",
    "    - ***ARPPU и Paying Share***, как вспомогательные - за счет чего набор приносит больше денег (спрос или цена)?"
   ]
  },
  {
   "cell_type": "markdown",
   "metadata": {},
   "source": [
    "### Подготовка и исследование данных"
   ]
  },
  {
   "cell_type": "code",
   "execution_count": 15,
   "metadata": {},
   "outputs": [],
   "source": [
    "# зададим функцию для считывания csv в датафрейм по ссылке на яндекс.диск\n",
    "def get_yd_csv(path, sep): #на вход даем ссылку на скачивание и формат разделителя\n",
    "    base_url = 'https://cloud-api.yandex.net/v1/disk/public/resources/download?'\n",
    "    get_url = base_url + urlencode(dict(public_key=path)) #склеиваем \n",
    "    download_url = requests.get(get_url).json()['href'] #отправляем запрос и забираем прямую ссылку на файл из json \n",
    "    return pd.read_csv(download_url, sep=sep)"
   ]
  },
  {
   "cell_type": "code",
   "execution_count": 16,
   "metadata": {},
   "outputs": [
    {
     "data": {
      "text/html": [
       "<div>\n",
       "<style scoped>\n",
       "    .dataframe tbody tr th:only-of-type {\n",
       "        vertical-align: middle;\n",
       "    }\n",
       "\n",
       "    .dataframe tbody tr th {\n",
       "        vertical-align: top;\n",
       "    }\n",
       "\n",
       "    .dataframe thead th {\n",
       "        text-align: right;\n",
       "    }\n",
       "</style>\n",
       "<table border=\"1\" class=\"dataframe\">\n",
       "  <thead>\n",
       "    <tr style=\"text-align: right;\">\n",
       "      <th></th>\n",
       "      <th>user_id</th>\n",
       "      <th>revenue</th>\n",
       "      <th>testgroup</th>\n",
       "    </tr>\n",
       "  </thead>\n",
       "  <tbody>\n",
       "    <tr>\n",
       "      <th>0</th>\n",
       "      <td>1</td>\n",
       "      <td>0</td>\n",
       "      <td>b</td>\n",
       "    </tr>\n",
       "    <tr>\n",
       "      <th>1</th>\n",
       "      <td>2</td>\n",
       "      <td>0</td>\n",
       "      <td>a</td>\n",
       "    </tr>\n",
       "    <tr>\n",
       "      <th>2</th>\n",
       "      <td>3</td>\n",
       "      <td>0</td>\n",
       "      <td>a</td>\n",
       "    </tr>\n",
       "    <tr>\n",
       "      <th>3</th>\n",
       "      <td>4</td>\n",
       "      <td>0</td>\n",
       "      <td>b</td>\n",
       "    </tr>\n",
       "    <tr>\n",
       "      <th>4</th>\n",
       "      <td>5</td>\n",
       "      <td>0</td>\n",
       "      <td>b</td>\n",
       "    </tr>\n",
       "  </tbody>\n",
       "</table>\n",
       "</div>"
      ],
      "text/plain": [
       "   user_id  revenue testgroup\n",
       "0        1        0         b\n",
       "1        2        0         a\n",
       "2        3        0         a\n",
       "3        4        0         b\n",
       "4        5        0         b"
      ]
     },
     "execution_count": 16,
     "metadata": {},
     "output_type": "execute_result"
    }
   ],
   "source": [
    "# забираем наши данные с ЯД\n",
    "bundles_df = get_yd_csv('https://disk.yandex.ru/d/12gk_ATEeBZm4A',';')\n",
    "bundles_df.head()"
   ]
  },
  {
   "cell_type": "code",
   "execution_count": 17,
   "metadata": {},
   "outputs": [
    {
     "data": {
      "text/plain": [
       "True"
      ]
     },
     "execution_count": 17,
     "metadata": {},
     "output_type": "execute_result"
    }
   ],
   "source": [
    "# проверим что записи о юзерах не задублились и/или юзеры не попали в разные группы\n",
    "bundles_df.user_id.shape[0] == bundles_df.user_id.nunique()"
   ]
  },
  {
   "cell_type": "code",
   "execution_count": 18,
   "metadata": {},
   "outputs": [
    {
     "data": {
      "text/plain": [
       "user_id       int64\n",
       "revenue       int64\n",
       "testgroup    object\n",
       "dtype: object"
      ]
     },
     "execution_count": 18,
     "metadata": {},
     "output_type": "execute_result"
    }
   ],
   "source": [
    "bundles_df.dtypes"
   ]
  },
  {
   "cell_type": "code",
   "execution_count": 19,
   "metadata": {},
   "outputs": [],
   "source": [
    "# разделим общий датафрейм по группам\n",
    "a_bundles = bundles_df[bundles_df.testgroup == 'a']\n",
    "b_bundles = bundles_df[bundles_df.testgroup == 'b']"
   ]
  },
  {
   "cell_type": "code",
   "execution_count": 26,
   "metadata": {},
   "outputs": [
    {
     "name": "stdout",
     "output_type": "stream",
     "text": [
      "A GROUP\n",
      " ARPU: 25.41 \n",
      "count     1928.000000\n",
      "mean      2663.998444\n",
      "std       9049.039763\n",
      "min        200.000000\n",
      "25%        257.000000\n",
      "50%        311.000000\n",
      "75%        361.000000\n",
      "max      37433.000000\n",
      "Name: revenue, dtype: float64\n",
      "B GROUP\n",
      " ARPU: 26.75 \n",
      "count    1805.000000\n",
      "mean     3003.658172\n",
      "std       572.619709\n",
      "min      2000.000000\n",
      "25%      2513.000000\n",
      "50%      3022.000000\n",
      "75%      3478.000000\n",
      "max      4000.000000\n",
      "Name: revenue, dtype: float64\n"
     ]
    }
   ],
   "source": [
    "# посмотрим на ARPU и распределение выручки с платящих игроков \n",
    "print(f'A GROUP\\n ARPU: {round(a_bundles.revenue.mean(), 2)} \\n{a_bundles[a_bundles.revenue > 0].revenue.describe()}')\n",
    "\n",
    "print(f'B GROUP\\n ARPU: {round(b_bundles.revenue.mean(), 2)} \\n{b_bundles[b_bundles.revenue > 0].revenue.describe()}')"
   ]
  },
  {
   "cell_type": "code",
   "execution_count": 31,
   "metadata": {},
   "outputs": [
    {
     "data": {
      "text/plain": [
       "<seaborn.axisgrid.FacetGrid at 0x2132759f160>"
      ]
     },
     "execution_count": 31,
     "metadata": {},
     "output_type": "execute_result"
    },
    {
     "data": {
      "image/png": "[encoded data removed]",
      "text/plain": [
       "<Figure size 360x360 with 1 Axes>"
      ]
     },
     "metadata": {
      "needs_background": "light"
     },
     "output_type": "display_data"
    }
   ],
   "source": [
    "sns.displot(a_bundles[a_bundles.revenue > 0].revenue)"
   ]
  },
  {
   "cell_type": "code",
   "execution_count": 32,
   "metadata": {},
   "outputs": [
    {
     "data": {
      "text/plain": [
       "<seaborn.axisgrid.FacetGrid at 0x21331dccf70>"
      ]
     },
     "execution_count": 32,
     "metadata": {},
     "output_type": "execute_result"
    },
    {
     "data": {
      "image/png": "[encoded data removed]",
      "text/plain": [
       "<Figure size 360x360 with 1 Axes>"
      ]
     },
     "metadata": {
      "needs_background": "light"
     },
     "output_type": "display_data"
    }
   ],
   "source": [
    "sns.displot(b_bundles[b_bundles.revenue > 0].revenue)"
   ]
  },
  {
   "cell_type": "markdown",
   "metadata": {},
   "source": [
    "Выбросы в группе А возвращают нас к вопросу - за какой период данные? Если только с акции - была ли у игроков обеих групп физическая возможность накупить наборов на такие суммы? \n",
    "\n",
    "Иными словами - это баг в данных или киты в аудитории?\n",
    "\n",
    "Если киты - в группы отбирались только новые пользователи? Если не только - не получилось ли так, что мы случайно набрали весь наш условный 1% китов в группу А?"
   ]
  },
  {
   "cell_type": "code",
   "execution_count": 33,
   "metadata": {
    "scrolled": true
   },
   "outputs": [
    {
     "data": {
      "text/html": [
       "<div>\n",
       "<style scoped>\n",
       "    .dataframe tbody tr th:only-of-type {\n",
       "        vertical-align: middle;\n",
       "    }\n",
       "\n",
       "    .dataframe tbody tr th {\n",
       "        vertical-align: top;\n",
       "    }\n",
       "\n",
       "    .dataframe thead th {\n",
       "        text-align: right;\n",
       "    }\n",
       "</style>\n",
       "<table border=\"1\" class=\"dataframe\">\n",
       "  <thead>\n",
       "    <tr style=\"text-align: right;\">\n",
       "      <th></th>\n",
       "      <th>user_id</th>\n",
       "      <th>revenue</th>\n",
       "    </tr>\n",
       "  </thead>\n",
       "  <tbody>\n",
       "    <tr>\n",
       "      <th>count</th>\n",
       "      <td>123.000000</td>\n",
       "      <td>123.000000</td>\n",
       "    </tr>\n",
       "    <tr>\n",
       "      <th>mean</th>\n",
       "      <td>203513.073171</td>\n",
       "      <td>37319.121951</td>\n",
       "    </tr>\n",
       "    <tr>\n",
       "      <th>std</th>\n",
       "      <td>116745.137742</td>\n",
       "      <td>25.442183</td>\n",
       "    </tr>\n",
       "    <tr>\n",
       "      <th>min</th>\n",
       "      <td>417.000000</td>\n",
       "      <td>37293.000000</td>\n",
       "    </tr>\n",
       "    <tr>\n",
       "      <th>25%</th>\n",
       "      <td>109013.500000</td>\n",
       "      <td>37301.000000</td>\n",
       "    </tr>\n",
       "    <tr>\n",
       "      <th>50%</th>\n",
       "      <td>204560.000000</td>\n",
       "      <td>37311.000000</td>\n",
       "    </tr>\n",
       "    <tr>\n",
       "      <th>75%</th>\n",
       "      <td>317108.500000</td>\n",
       "      <td>37329.000000</td>\n",
       "    </tr>\n",
       "    <tr>\n",
       "      <th>max</th>\n",
       "      <td>399295.000000</td>\n",
       "      <td>37433.000000</td>\n",
       "    </tr>\n",
       "  </tbody>\n",
       "</table>\n",
       "</div>"
      ],
      "text/plain": [
       "             user_id       revenue\n",
       "count     123.000000    123.000000\n",
       "mean   203513.073171  37319.121951\n",
       "std    116745.137742     25.442183\n",
       "min       417.000000  37293.000000\n",
       "25%    109013.500000  37301.000000\n",
       "50%    204560.000000  37311.000000\n",
       "75%    317108.500000  37329.000000\n",
       "max    399295.000000  37433.000000"
      ]
     },
     "execution_count": 33,
     "metadata": {},
     "output_type": "execute_result"
    }
   ],
   "source": [
    "a_bundles[a_bundles.revenue > 1000].describe()"
   ]
  },
  {
   "cell_type": "code",
   "execution_count": 34,
   "metadata": {},
   "outputs": [
    {
     "data": {
      "text/plain": [
       "count    1805.000000\n",
       "mean      302.458172\n",
       "std        57.914246\n",
       "min       200.000000\n",
       "25%       254.000000\n",
       "50%       305.000000\n",
       "75%       352.000000\n",
       "max       400.000000\n",
       "Name: revenue, dtype: float64"
      ]
     },
     "execution_count": 34,
     "metadata": {},
     "output_type": "execute_result"
    }
   ],
   "source": [
    "a_bundles[(a_bundles.revenue < 1000) & (a_bundles.revenue > 0)].revenue.describe()"
   ]
  },
  {
   "cell_type": "markdown",
   "metadata": {},
   "source": [
    "Всего 123 игрока с подозрительно высокими суммами при низком std. \n",
    "\n",
    "Т.к. в смоделированных условиях мы не можем ни подтвердить, ни опровергнуть ни один вариант, у нас есть следующие потенциальные кейсы:\n",
    "1. Это киты и реально принесли столько денег проекту.\n",
    "2. Это баг, эти игроки принесли выручку в диапазоне группы А - от 200 до 400.\n",
    "3. Это баг, эти игроки принесли 0.\n",
    "4. Это баг, эти игроки не участвовали в эксперименте / не существуют.\n",
    "\n",
    "Из них мы не сможем протестировать только кейс №2, т.к. отнимать у всех условные 37 033 не вариант, потребуются точные суммы.\n",
    "\n",
    "Но разброс в uid (при исходной сортировке датасета по uid) и концентрация всех аномалий в группе А заставляет также усомниться в случайном добавлении данных (как revenue, так и связки uid-revenue-group).\n",
    "\n",
    "В любом случае, если это баг, нужно полностью перепроверить наши данные - нельзя исключить вероятность ошибок в данных по другим игрокам. \n",
    "\n",
    "Поэтому принимаем как реальность кейс #1 и тестируем его, но добавим Median RPPU как вспомогательную метрику."
   ]
  },
  {
   "cell_type": "markdown",
   "metadata": {},
   "source": [
    "### Оценка результатов теста\n",
    "Для монетизационных метрик (ARPU, ARPPU, MRPPU) проверим статзначимость разниц avg/med значений в группах при помощи бутстрапа c α = 0,05.\n",
    "\n",
    "Для биномиальной метрики Paying Share - z-тест пропорций."
   ]
  },
  {
   "cell_type": "code",
   "execution_count": 43,
   "metadata": {},
   "outputs": [],
   "source": [
    "# Объявим функцию, которая позволит проверять гипотезы с помощью бутстрапа\n",
    "def get_bootstrap(\n",
    "    data_column_1, # числовые значения первой выборки\n",
    "    data_column_2, # числовые значения второй выборки\n",
    "    boot_it = 1000, # количество подвыборок\n",
    "    statistic = np.mean, # интересующая нас статистика\n",
    "    bootstrap_conf_level = 0.95, # уровень значимости\n",
    "    ggplt = True # визуализация\n",
    "):\n",
    "    boot_len = max([len(data_column_1), len(data_column_2)])\n",
    "    boot_data = []\n",
    "    for i in tqdm(range(boot_it)): # извлекаем подвыборки\n",
    "        samples_1 = data_column_1.sample(\n",
    "            boot_len, \n",
    "            replace = True # параметр возвращения\n",
    "        ).values\n",
    "        \n",
    "        samples_2 = data_column_2.sample(\n",
    "            boot_len, \n",
    "            replace = True\n",
    "        ).values\n",
    "        \n",
    "        boot_data.append(statistic(samples_1-samples_2)) # mean() - применяем статистику\n",
    "        \n",
    "    pd_boot_data = pd.DataFrame(boot_data)\n",
    "        \n",
    "    left_quant = (1 - bootstrap_conf_level)/2\n",
    "    right_quant = 1 - (1 - bootstrap_conf_level) / 2\n",
    "    ci = pd_boot_data.quantile([left_quant, right_quant])\n",
    "        \n",
    "    p_1 = norm.cdf(\n",
    "        x = 0, \n",
    "        loc = np.mean(boot_data), \n",
    "        scale = np.std(boot_data)\n",
    "    )\n",
    "    p_2 = norm.cdf(\n",
    "        x = 0, \n",
    "        loc = -np.mean(boot_data), \n",
    "        scale = np.std(boot_data)\n",
    "    )\n",
    "    p_value = min(p_1, p_2) * 2\n",
    "    \n",
    "    if ggplt:\n",
    "        # Визуализация\n",
    "        plt.hist(pd_boot_data[0], bins = 50)\n",
    "        plt.style.use('ggplot')\n",
    "        plt.vlines(ci,ymin=0,ymax=50,linestyle='--')\n",
    "        plt.xlabel('boot_data')\n",
    "        plt.ylabel('frequency')\n",
    "        plt.title(\"Histogram of boot_data\")\n",
    "        plt.show()\n",
    "    else: print('p-value', statistic, p_value) ##при отключении визуализации выводим текстом статистику и p-value\n",
    "        \n",
    "    return p_value"
   ]
  },
  {
   "cell_type": "code",
   "execution_count": 44,
   "metadata": {},
   "outputs": [],
   "source": [
    "# Подготовим данные для теста равенства пропорций - количество платящих пользователей по каждой группе и размеры групп.\n",
    "a_paid, b_paid = a_bundles[a_bundles.revenue > 0].shape[0], b_bundles[b_bundles.revenue > 0].shape[0]\n",
    "a_size, b_size = a_bundles.shape[0], b_bundles.shape[0]\n",
    "paid, total = [a_paid, b_paid], [a_size, b_size]"
   ]
  },
  {
   "cell_type": "code",
   "execution_count": 45,
   "metadata": {},
   "outputs": [
    {
     "data": {
      "application/vnd.jupyter.widget-view+json": {
       "model_id": "1e678d44179f487fb853e1ccb0034023",
       "version_major": 2,
       "version_minor": 0
      },
      "text/plain": [
       "  0%|          | 0/1000 [00:00<?, ?it/s]"
      ]
     },
     "metadata": {},
     "output_type": "display_data"
    },
    {
     "data": {
      "image/png": "[encoded data removed]",
      "text/plain": [
       "<Figure size 432x288 with 1 Axes>"
      ]
     },
     "metadata": {
      "needs_background": "light"
     },
     "output_type": "display_data"
    }
   ],
   "source": [
    "ARPU_pval = get_bootstrap(data_column_1 = a_bundles.revenue, \n",
    "                           data_column_2 = b_bundles.revenue, \n",
    "                           boot_it = 1000, \n",
    "                           statistic = np.mean, \n",
    "                           bootstrap_conf_level = 0.95, \n",
    "                           ggplt = True)"
   ]
  },
  {
   "cell_type": "code",
   "execution_count": 46,
   "metadata": {},
   "outputs": [
    {
     "data": {
      "application/vnd.jupyter.widget-view+json": {
       "model_id": "c5442a6e629c4d739fd98d56d6840782",
       "version_major": 2,
       "version_minor": 0
      },
      "text/plain": [
       "  0%|          | 0/1000 [00:00<?, ?it/s]"
      ]
     },
     "metadata": {},
     "output_type": "display_data"
    },
    {
     "data": {
      "image/png": "[encoded data removed]",
      "text/plain": [
       "<Figure size 432x288 with 1 Axes>"
      ]
     },
     "metadata": {},
     "output_type": "display_data"
    }
   ],
   "source": [
    "ARPPU_pval = get_bootstrap(data_column_1 = a_bundles[a_bundles.revenue > 0].revenue, \n",
    "                           data_column_2 = b_bundles[b_bundles.revenue > 0].revenue, \n",
    "                           boot_it = 1000, \n",
    "                           statistic = np.mean, \n",
    "                           bootstrap_conf_level = 0.95, \n",
    "                           ggplt = True)"
   ]
  },
  {
   "cell_type": "code",
   "execution_count": 47,
   "metadata": {},
   "outputs": [
    {
     "data": {
      "application/vnd.jupyter.widget-view+json": {
       "model_id": "15146312f0974680ad20ad72481cdf48",
       "version_major": 2,
       "version_minor": 0
      },
      "text/plain": [
       "  0%|          | 0/1000 [00:00<?, ?it/s]"
      ]
     },
     "metadata": {},
     "output_type": "display_data"
    },
    {
     "data": {
      "image/png": "[encoded data removed]",
      "text/plain": [
       "<Figure size 432x288 with 1 Axes>"
      ]
     },
     "metadata": {},
     "output_type": "display_data"
    }
   ],
   "source": [
    "MRPPU_pval = get_bootstrap(data_column_1 = a_bundles[a_bundles.revenue > 0].revenue, \n",
    "                           data_column_2 = b_bundles[b_bundles.revenue > 0].revenue, \n",
    "                           boot_it = 1000, \n",
    "                           statistic = np.median, \n",
    "                           bootstrap_conf_level = 0.95, \n",
    "                           ggplt = True)"
   ]
  },
  {
   "cell_type": "code",
   "execution_count": 48,
   "metadata": {},
   "outputs": [],
   "source": [
    "PShare_pval = sm.stats.proportions_ztest(paid, total, value=None, alternative='two-sided', prop_var=False)[1]"
   ]
  },
  {
   "cell_type": "code",
   "execution_count": 51,
   "metadata": {},
   "outputs": [],
   "source": [
    "# Подготовим данные для таблицы результатов теста\n",
    "a_arppu = round(a_bundles[a_bundles.revenue > 0].revenue.mean(), 2)\n",
    "b_arppu = round(b_bundles[b_bundles.revenue > 0].revenue.mean(), 2)\n",
    "a_mrppu = round(a_bundles[a_bundles.revenue > 0].revenue.median(), 2)\n",
    "b_mrppu = round(b_bundles[b_bundles.revenue > 0].revenue.median(), 2)\n",
    "\n",
    "result_data = {'Group A': [a_size, \n",
    "                           round(a_bundles.revenue.mean(), 2), \n",
    "                           a_arppu,\n",
    "                           a_mrppu,\n",
    "                           '{:.2f}%'.format(a_paid/a_size*100)],\n",
    "               \n",
    "               'Group B': [b_size, \n",
    "                           round(b_bundles.revenue.mean(), 2), \n",
    "                           b_arppu,\n",
    "                           b_mrppu,\n",
    "                           '{:.2f}%'.format(b_paid/b_size*100)],\n",
    "               \n",
    "               'Diff B/A (%)': ['{:.2f}%'.format(100-(a_size/b_size)*100),\n",
    "                                '{:.2f}%'.format(100-100*(round(a_bundles.revenue.mean()/b_bundles.revenue.mean(), 2))),\n",
    "                                '{:.2f}%'.format(100-100*(a_arppu/b_arppu)),\n",
    "                                '{:.2f}%'.format(100-100*(a_mrppu/b_mrppu)),\n",
    "                                '{:.2f}%'.format(100-100*((a_paid/a_size)/(b_paid/b_size)))], \n",
    "               \n",
    "               'p-value': ['-',\n",
    "                          ARPU_pval.round(3),\n",
    "                          ARPPU_pval.round(3),\n",
    "                          MRPPU_pval.round(3),\n",
    "                          PShare_pval.round(3)]\n",
    "                }\n",
    "\n",
    "result_idx = ['Group Size', 'ARPU', 'ARPPU', 'MRPPU', 'Paying Share']"
   ]
  },
  {
   "cell_type": "code",
   "execution_count": 52,
   "metadata": {},
   "outputs": [],
   "source": [
    "# И саму таблицу\n",
    "result = pd.DataFrame(data=result_data, index=result_idx)"
   ]
  },
  {
   "cell_type": "markdown",
   "metadata": {},
   "source": [
    "### Выводы"
   ]
  },
  {
   "cell_type": "code",
   "execution_count": 53,
   "metadata": {},
   "outputs": [
    {
     "data": {
      "text/html": [
       "<div>\n",
       "<style scoped>\n",
       "    .dataframe tbody tr th:only-of-type {\n",
       "        vertical-align: middle;\n",
       "    }\n",
       "\n",
       "    .dataframe tbody tr th {\n",
       "        vertical-align: top;\n",
       "    }\n",
       "\n",
       "    .dataframe thead th {\n",
       "        text-align: right;\n",
       "    }\n",
       "</style>\n",
       "<table border=\"1\" class=\"dataframe\">\n",
       "  <thead>\n",
       "    <tr style=\"text-align: right;\">\n",
       "      <th></th>\n",
       "      <th>Group A</th>\n",
       "      <th>Group B</th>\n",
       "      <th>Diff B/A (%)</th>\n",
       "      <th>p-value</th>\n",
       "    </tr>\n",
       "  </thead>\n",
       "  <tbody>\n",
       "    <tr>\n",
       "      <th>Group Size</th>\n",
       "      <td>202103</td>\n",
       "      <td>202667</td>\n",
       "      <td>0.28%</td>\n",
       "      <td>-</td>\n",
       "    </tr>\n",
       "    <tr>\n",
       "      <th>ARPU</th>\n",
       "      <td>25.41</td>\n",
       "      <td>26.75</td>\n",
       "      <td>5.00%</td>\n",
       "      <td>0.51</td>\n",
       "    </tr>\n",
       "    <tr>\n",
       "      <th>ARPPU</th>\n",
       "      <td>2664.0</td>\n",
       "      <td>3003.66</td>\n",
       "      <td>11.31%</td>\n",
       "      <td>0.102</td>\n",
       "    </tr>\n",
       "    <tr>\n",
       "      <th>MRPPU</th>\n",
       "      <td>311.0</td>\n",
       "      <td>3022.0</td>\n",
       "      <td>89.71%</td>\n",
       "      <td>0.0</td>\n",
       "    </tr>\n",
       "    <tr>\n",
       "      <th>Paying Share</th>\n",
       "      <td>0.95%</td>\n",
       "      <td>0.89%</td>\n",
       "      <td>-7.11%</td>\n",
       "      <td>0.035</td>\n",
       "    </tr>\n",
       "  </tbody>\n",
       "</table>\n",
       "</div>"
      ],
      "text/plain": [
       "             Group A  Group B Diff B/A (%) p-value\n",
       "Group Size    202103   202667        0.28%       -\n",
       "ARPU           25.41    26.75        5.00%    0.51\n",
       "ARPPU         2664.0  3003.66       11.31%   0.102\n",
       "MRPPU          311.0   3022.0       89.71%     0.0\n",
       "Paying Share   0.95%    0.89%       -7.11%   0.035"
      ]
     },
     "execution_count": 53,
     "metadata": {},
     "output_type": "execute_result"
    }
   ],
   "source": [
    "result"
   ]
  },
  {
   "cell_type": "markdown",
   "metadata": {},
   "source": [
    "В результате теста:\n",
    "- Нет стат.значимых различий в **ARPU, ARPPU** между группами, прирост +5%, +11% мог быть получен случайно.\n",
    "- При этом, в группе B значимо снизился Paying Share (-7%) и вырос MRPPU (89,7%)\n",
    "\n",
    "Иными словами, выросла минимальная выручка с платящего, но снизилась доля платящих. При этом средняя выручка с пользователя не изменилась из-за концентрации высокодоходных игроков в группе А. \n",
    "Снижение спроса может быть вызвано высокой ценой, по сравнению с группой А и/или снижением потребности в период восстановления после акции. \n",
    "\n",
    "**Важно учесть:**\n",
    "1. Необходима дополнительная проверка для подтверждения валидности данных (123 игрока в группе А со средним 'чеком' 37 тыс.).\n",
    "2. Если данные о выручке только с акции - результат корректен только если у нас нет постоянного магазина / не было периода снижения спроса после акции (среднедневная выручка до акции = после акции).\n",
    "3. Распределение нашей аудитории по платежеспособности - можем ли мы рассчитывать на китов?\n",
    "4. Влияние на KPI вне датасета (Retention, Ad Revenue, конверсия в 1 покупку) и внутриигровую экономику/баланс.\n",
    "\n",
    "Если в наборах были товары разных групп ABC/XYZ - по спросу выигрывывают наборы группы А.\n",
    "\n",
    "Аналогично для теста на новичках/неплатящих - конвертить в 1-ую покупку сложнее чем в последующие.\n",
    "\n",
    "[!] Если наши 123 кита - баг, лучшим вариантом будут наборы в группе B.\n",
    "\n",
    "А идеальным решением будет тест наборов с динамическим наполнением -> ценой, для конвертации игроков из разных сегментов платежеспособности."
   ]
  }
 ],
 "metadata": {
  "kernelspec": {
   "display_name": "Python 3 (ipykernel)",
   "language": "python",
   "name": "python3"
  },
  "language_info": {
   "codemirror_mode": {
    "name": "ipython",
    "version": 3
   },
   "file_extension": ".py",
   "mimetype": "text/x-python",
   "name": "python",
   "nbconvert_exporter": "python",
   "pygments_lexer": "ipython3",
   "version": "3.9.12"
  }
 },
 "nbformat": 4,
 "nbformat_minor": 4
}
